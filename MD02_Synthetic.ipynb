import numpy as np
import matplotlib.pyplot as plt

# Parameters
days = 3 * 365
initial_depth = 500000  # Initial market depth for each side (buy/sell)
growth_rate = 0.002  # Approx. 5% annual growth (daily compounded)
num_levels = 10  # Number of price levels in the order book
variation_scale = 0.05  # Variation scale factor

# Initialize the order book depth for each level on both sides
buy_side_depth = np.full((days, num_levels), initial_depth / num_levels)
sell_side_depth = np.full((days, num_levels), initial_depth / num_levels)

# Simulate the order book over time
for day in range(1, days):
    # Apply daily growth to the market depth
    buy_side_depth[day] = buy_side_depth[day - 1] * (1 + growth_rate)
    sell_side_depth[day] = sell_side_depth[day - 1] * (1 + growth_rate)
    
    # Apply random variations to simulate fluctuations
    buy_side_depth[day] += np.random.normal(0, variation_scale * buy_side_depth[day], num_levels)
    sell_side_depth[day] += np.random.normal(0, variation_scale * sell_side_depth[day], num_levels)

# Ensure no negative values in the order book
buy_side_depth = np.clip(buy_side_depth, 0, None)
sell_side_depth = np.clip(sell_side_depth, 0, None)

# Calculate the average market depth for each day
average_buy_depth = buy_side_depth.mean(axis=1)
average_sell_depth = sell_side_depth.mean(axis=1)

# Plotting the average market depth over time for both buy and sell sides
plt.figure(figsize=(14, 7))

# Fill the area for buy side (positive y-axis)
plt.fill_between(range(days), 0, average_buy_depth, color='green', alpha=0.5, label='Average Buy Side Depth (LOB/USDC)')

# Fill the area for sell side (negative y-axis)
plt.fill_between(range(days), 0, -average_sell_depth, color='red', alpha=0.5, label='Average Sell Side Depth (LOB/USDC)')

plt.title('Daily Average Market Depth Over 3 Years (Buy and Sell Sides in LOB/USDC)')
plt.xlabel('Days')
plt.ylabel('Market Depth (LOB/USDC)')
plt.legend()
plt.grid(False)
plt.show()
